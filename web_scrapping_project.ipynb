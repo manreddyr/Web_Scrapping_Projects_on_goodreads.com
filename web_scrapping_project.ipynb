{
  "cells": [
    {
      "cell_type": "markdown",
      "metadata": {
        "id": "view-in-github",
        "colab_type": "text"
      },
      "source": [
        "<a href=\"https://colab.research.google.com/github/manreddyr/Web_Scrapping_Projects_on_goodreads.com/blob/main/web_scrapping_project.ipynb\" target=\"_parent\"><img src=\"https://colab.research.google.com/assets/colab-badge.svg\" alt=\"Open In Colab\"/></a>"
      ]
    },
    {
      "cell_type": "markdown",
      "source": [
        "# **Web scraping top 100 best selling books of all time on `goodreads.com` website using python.**\n",
        "\n",
        "_Goodreads_ is the world’s largest site for readers and book recommendations. Goodreads launched in January 2007.Goodreads is an American social cataloging website and a subsidiary of Amazon that allows individuals to search its database of books, annotations, quotes, and reviews. Users can sign up and register books to generate library catalogs and reading lists.\n",
        "\n",
        "![img_banner](https://i.imgur.com/86OmQ5F.png)\n",
        "\n",
        " The page 'https://www.goodreads.com/list/show/33934.Best_Selling_Books_of_All_Time' provides a list of books on goodreads. In this project, we'll retrive information from this page using web scraping: the process of extracting information from a website in an automated fashion using code. We'll use the Python libraries Requests and Beautiful Soup to scrape data from this page.\n",
        " \n",
        " Here's an outline of the steps we'll follow:\n",
        "\n",
        "- Download the webpage using requests\n",
        "- Parse the HTML source code using beautiful soup\n",
        "- Extract book title,author name,book url, ratings from page\n",
        "- Compile extracted information into Python lists and dictionaries\n",
        "- Extract and combine data from multiple pages\n",
        "- Save the extracted information to a CSV file.\n",
        "- By the end of the project, we'll create a CSV file in the following format:\n",
        "\n",
        "[Book_title,Author_name,Book_url,Book_ratings]\n",
        "\n",
        "**Example :**\n",
        "\n",
        "[A Tale of Two Cities,Charles Dickens,https://www.goodreads.com/book/show/1953.A_Tale_of_Two_Cities,3.86 avg rating — 892967 ratings]\n"
      ],
      "metadata": {
        "id": "jOC26kR3wJ5D"
      }
    },
    {
      "cell_type": "markdown",
      "source": [
        "##  What is Web Scraping?\n",
        "\n",
        "Web Scraping gives us the ability to collect data from a source all by ourselves and in the format that we would like Of course there would be some limitations depending on the source of the data but we have greater control since we get to decide how and what data we scrape from the data available at the source.\n",
        "We would be using iplt20.com to scrape the points tables as they are kind enough to allow scraping with some restrictions. We would work on _best selling books_ data."
      ],
      "metadata": {
        "id": "hEJsEM4BxlEZ"
      }
    },
    {
      "cell_type": "markdown",
      "source": [
        "![](https://imgur.com/ZsmNfrG.jpeg)"
      ],
      "metadata": {
        "id": "BN7sxYeuymv5"
      }
    },
    {
      "cell_type": "markdown",
      "source": [
        "# Outline of the Project:\n",
        "\n",
        "1. Understand and identify the information you'd like to scrape from the site. Decide the format of the output CSV file.\n",
        "2. Installing and Importing required libraries.\n",
        "3. Simulating the page and Extracting the URLs of all the years from website using beautifulsoup.\n",
        "4. Accessing book data and building a URL.\n",
        "5. Parsing the books into 5 columns using Helper Functions.\n",
        "6. Storing the extracted data into a dictionary.\n",
        "7. Compiling all the data into a DataFrame using Pandas and saving the data into CSV file."
      ],
      "metadata": {
        "id": "nIxeSuKnzCmR"
      }
    },
    {
      "cell_type": "markdown",
      "source": [
        "## Steps followed:\n",
        "We have broken down into 3 steps:-\n",
        "\n",
        "1. First we would extract all the year links from the homepage for goodread.com.\n",
        "\n",
        "2. We would navigate all the tags and scrape the best selling books table one by one using the functions.\n",
        "\n",
        "3. Since we already have all inner and outer tags, we will navigate to the data in the points table page and scrape the details by calling the functions into dictionary and save it to a dataframe and finally export it to a csv file. "
      ],
      "metadata": {
        "id": "3LDI2yIQ0UFX"
      }
    },
    {
      "cell_type": "markdown",
      "source": [
        "### Installing and importing required libraries."
      ],
      "metadata": {
        "id": "H_obq5wG0iuO"
      }
    },
    {
      "cell_type": "code",
      "source": [
        "# installing necesseray libraries - requests and beautifulsoup\n",
        "!pip install requests --upgrade --quiet\n",
        "!pip install beautifulsoup4 --upgrade --quiet"
      ],
      "metadata": {
        "id": "UtnCH8BIlgmc"
      },
      "execution_count": null,
      "outputs": []
    },
    {
      "cell_type": "code",
      "source": [
        "# creating list for urls\n",
        "list_of_urls = [\n",
        "    '181599.Best_books_of_November_2022',\n",
        "    '33934.Best_Selling_Books_of_All_Time'\n",
        "]"
      ],
      "metadata": {
        "id": "nGrIeI1LlgxS"
      },
      "execution_count": null,
      "outputs": []
    },
    {
      "cell_type": "code",
      "source": [
        "#importing libraries\n",
        "import requests\n",
        "from bs4 import BeautifulSoup\n",
        "\n",
        "# defining helper function to get list of books from the url\n",
        "def get_topics_page(urls):\n",
        "    topics_url = 'https://www.goodreads.com/list/show/' + urls\n",
        "    response = requests.get(topics_url)\n",
        "    if response.status_code != 200:\n",
        "        raise Exception('Failed to load page {}'.format(topic_url))\n",
        "    doc = BeautifulSoup(response.text, 'html.parser')\n",
        "    all_tags = doc.find(\"table\",class_=\"tableList js-dataTooltip\")\n",
        "    all_book_tags = all_tags.find_all(\"tr\")\n",
        "    \n",
        "    return all_book_tags"
      ],
      "metadata": {
        "id": "X516PRWMljUs"
      },
      "execution_count": null,
      "outputs": []
    },
    {
      "cell_type": "code",
      "source": [
        "# assigning book tags in a variable by using the urls in list\n",
        "books_tr_tags = [get_topics_page(url) for url in list_of_urls]"
      ],
      "metadata": {
        "id": "oYJcenexnH_q"
      },
      "execution_count": null,
      "outputs": []
    },
    {
      "cell_type": "code",
      "source": [
        "len(books_tr_tags)"
      ],
      "metadata": {
        "colab": {
          "base_uri": "https://localhost:8080/"
        },
        "id": "3jpmuXQTnJsh",
        "outputId": "366b8a75-4455-45ac-a092-8ade2687fb41"
      },
      "execution_count": null,
      "outputs": [
        {
          "output_type": "execute_result",
          "data": {
            "text/plain": [
              "2"
            ]
          },
          "metadata": {},
          "execution_count": 60
        }
      ]
    },
    {
      "cell_type": "markdown",
      "source": [
        "### Defining function to extract book records and storing it in dictionary"
      ],
      "metadata": {
        "id": "nt4AhOUG3Mx6"
      }
    },
    {
      "cell_type": "code",
      "source": [
        "# defining helper function to get 5 columns of needed format\n",
        "def book_details(book, search_type):\n",
        "    book_title = book.find(\"a\",class_=\"bookTitle\")\n",
        "    book_author_name = book.find(\"a\",class_=\"authorName\")\n",
        "    base_url = 'https://www.goodreads.com'\n",
        "    book_url = base_url + book.find(\"a\",class_ = \"bookTitle\")[\"href\"]\n",
        "    book_ratings = book.find(\"span\",class_=\"minirating\")\n",
        "    \n",
        "    # creating a dictionary and storing the book column elements\n",
        "    book_dict = {\n",
        "        \n",
        "        'Book_title':book_title.text.strip().replace(\",\",\" \"),\n",
        "        'Author_name':book_author_name.text,\n",
        "        'Book_url':book_url,\n",
        "        'Book_ratings':book_ratings.text.strip().replace(\",\", \"\"),\n",
        "        'search_type': search_type\n",
        "    }\n",
        "    return book_dict"
      ],
      "metadata": {
        "id": "pdHZpabknLeJ"
      },
      "execution_count": null,
      "outputs": []
    },
    {
      "cell_type": "code",
      "source": [
        "len(all_books_done)"
      ],
      "metadata": {
        "colab": {
          "base_uri": "https://localhost:8080/"
        },
        "id": "2K8LvMRXnQVS",
        "outputId": "4ae8a2ab-2946-4d9d-a0b1-8655d44cd348"
      },
      "execution_count": null,
      "outputs": [
        {
          "output_type": "execute_result",
          "data": {
            "text/plain": [
              "200"
            ]
          },
          "metadata": {},
          "execution_count": 62
        }
      ]
    },
    {
      "cell_type": "markdown",
      "source": [
        "200 book records have been scraped"
      ],
      "metadata": {
        "id": "6MeriYtg2Hmq"
      }
    },
    {
      "cell_type": "code",
      "source": [
        "# reading a sample\n",
        "all_books_done[:2]"
      ],
      "metadata": {
        "colab": {
          "base_uri": "https://localhost:8080/"
        },
        "id": "sE6YWsTpnSiR",
        "outputId": "b43a0f31-36f1-4dea-9981-99c83a8dbfd3"
      },
      "execution_count": null,
      "outputs": [
        {
          "output_type": "execute_result",
          "data": {
            "text/plain": [
              "[{'Book_title': 'A Light in the Flame (Flesh and Fire  #2)',\n",
              "  'Author_name': 'Jennifer L. Armentrout',\n",
              "  'Book_url': 'https://www.goodreads.com/book/show/59449896-a-light-in-the-flame',\n",
              "  'Book_ratings': '4.53 avg rating — 44359 ratings',\n",
              "  'search_type': 'Best Selling Books'},\n",
              " {'Book_title': 'Heist (Valenshek Legacy  #1)',\n",
              "  'Author_name': 'Tate James',\n",
              "  'Book_url': 'https://www.goodreads.com/book/show/63001132-heist',\n",
              "  'Book_ratings': '4.58 avg rating — 2072 ratings',\n",
              "  'search_type': 'Best Selling Books'}]"
            ]
          },
          "metadata": {},
          "execution_count": 63
        }
      ]
    },
    {
      "cell_type": "markdown",
      "source": [
        "### Defining Function to write scrapped raw data into csv file format"
      ],
      "metadata": {
        "id": "jm73OQ4u3BaQ"
      }
    },
    {
      "cell_type": "code",
      "source": [
        "# defining function to write book records data into csv file\n",
        "def write_csv(items, path):\n",
        "    # Open the file in write mode\n",
        "    with open(path, 'w') as f:\n",
        "        # Return if there's nothing to write\n",
        "        if len(items) == 0:\n",
        "            return\n",
        "        \n",
        "        # Write the headers in the first line\n",
        "        headers = list(items[0].keys())\n",
        "        f.write(','.join(headers) + '\\n')\n",
        "        \n",
        "        # Write one item per line\n",
        "        for item in items:\n",
        "            values = []\n",
        "            for header in headers:\n",
        "                values.append(str(item.get(header, \"\")))\n",
        "            f.write(','.join(values) + \"\\n\")"
      ],
      "metadata": {
        "id": "ibb0rzijnSax"
      },
      "execution_count": null,
      "outputs": []
    },
    {
      "cell_type": "code",
      "source": [
        "write_csv(all_books_done , 'books.csv')"
      ],
      "metadata": {
        "id": "VDe9tnccnXAC"
      },
      "execution_count": null,
      "outputs": []
    },
    {
      "cell_type": "markdown",
      "source": [
        "### install pandas to create and store the data as dataframe"
      ],
      "metadata": {
        "id": "heZaPJ9H2zQ4"
      }
    },
    {
      "cell_type": "code",
      "source": [
        "!pip install pandas --upgrade --quiet"
      ],
      "metadata": {
        "id": "ufi62aPRnYu6"
      },
      "execution_count": null,
      "outputs": []
    },
    {
      "cell_type": "code",
      "source": [
        "import pandas as pd"
      ],
      "metadata": {
        "id": "isVBAyBxnZUk"
      },
      "execution_count": null,
      "outputs": []
    },
    {
      "cell_type": "code",
      "source": [
        "books_df = pd.read_csv(\"books.csv\")"
      ],
      "metadata": {
        "id": "dT6VVuqvnavB"
      },
      "execution_count": null,
      "outputs": []
    },
    {
      "cell_type": "code",
      "source": [
        "books_df"
      ],
      "metadata": {
        "colab": {
          "base_uri": "https://localhost:8080/",
          "height": 589
        },
        "id": "2KpYNMR8ndjq",
        "outputId": "aac43236-bbdd-40cd-a14a-5a602787bfb5"
      },
      "execution_count": null,
      "outputs": [
        {
          "output_type": "execute_result",
          "data": {
            "text/plain": [
              "                                            Book_title  \\\n",
              "0            A Light in the Flame (Flesh and Fire  #2)   \n",
              "1                         Heist (Valenshek Legacy  #1)   \n",
              "2                                      Sweetest Secret   \n",
              "3                    God of Wrath (Legacy of Gods  #3)   \n",
              "4    Dukes of Peril (The Royals of Forsyth Universi...   \n",
              "..                                                 ...   \n",
              "195                                        The Prophet   \n",
              "196                                       The Exorcist   \n",
              "197                        The Gruffalo (Gruffalo  #1)   \n",
              "198                                           Catch-22   \n",
              "199                                  Eye of the Needle   \n",
              "\n",
              "                Author_name  \\\n",
              "0    Jennifer L. Armentrout   \n",
              "1                Tate James   \n",
              "2              Lucy Darling   \n",
              "3                 Rina Kent   \n",
              "4              Angel Lawson   \n",
              "..                      ...   \n",
              "195           Kahlil Gibran   \n",
              "196    William Peter Blatty   \n",
              "197         Julia Donaldson   \n",
              "198           Joseph Heller   \n",
              "199             Ken Follett   \n",
              "\n",
              "                                              Book_url  \\\n",
              "0    https://www.goodreads.com/book/show/59449896-a...   \n",
              "1    https://www.goodreads.com/book/show/63001132-h...   \n",
              "2    https://www.goodreads.com/book/show/62994973-s...   \n",
              "3    https://www.goodreads.com/book/show/61100797-g...   \n",
              "4    https://www.goodreads.com/book/show/61348581-d...   \n",
              "..                                                 ...   \n",
              "195  https://www.goodreads.com/book/show/2547.The_P...   \n",
              "196  https://www.goodreads.com/book/show/179780.The...   \n",
              "197  https://www.goodreads.com/book/show/1013383.Th...   \n",
              "198  https://www.goodreads.com/book/show/168668.Cat...   \n",
              "199  https://www.goodreads.com/book/show/92364.Eye_...   \n",
              "\n",
              "                         Book_ratings                  search_type  \n",
              "0     4.53 avg rating — 44359 ratings           Best Selling Books  \n",
              "1      4.58 avg rating — 2072 ratings           Best Selling Books  \n",
              "2       4.02 avg rating — 993 ratings           Best Selling Books  \n",
              "3     4.20 avg rating — 17659 ratings           Best Selling Books  \n",
              "4      4.51 avg rating — 3274 ratings           Best Selling Books  \n",
              "..                                ...                          ...  \n",
              "195  4.23 avg rating — 283460 ratings  Best books of November 2022  \n",
              "196  4.20 avg rating — 219249 ratings  Best books of November 2022  \n",
              "197   4.45 avg rating — 40501 ratings  Best books of November 2022  \n",
              "198  3.99 avg rating — 806318 ratings  Best books of November 2022  \n",
              "199  4.20 avg rating — 150213 ratings  Best books of November 2022  \n",
              "\n",
              "[200 rows x 5 columns]"
            ],
            "text/html": [
              "\n",
              "  <div id=\"df-11d18064-81cc-47da-8ecf-9328e07b031c\">\n",
              "    <div class=\"colab-df-container\">\n",
              "      <div>\n",
              "<style scoped>\n",
              "    .dataframe tbody tr th:only-of-type {\n",
              "        vertical-align: middle;\n",
              "    }\n",
              "\n",
              "    .dataframe tbody tr th {\n",
              "        vertical-align: top;\n",
              "    }\n",
              "\n",
              "    .dataframe thead th {\n",
              "        text-align: right;\n",
              "    }\n",
              "</style>\n",
              "<table border=\"1\" class=\"dataframe\">\n",
              "  <thead>\n",
              "    <tr style=\"text-align: right;\">\n",
              "      <th></th>\n",
              "      <th>Book_title</th>\n",
              "      <th>Author_name</th>\n",
              "      <th>Book_url</th>\n",
              "      <th>Book_ratings</th>\n",
              "      <th>search_type</th>\n",
              "    </tr>\n",
              "  </thead>\n",
              "  <tbody>\n",
              "    <tr>\n",
              "      <th>0</th>\n",
              "      <td>A Light in the Flame (Flesh and Fire  #2)</td>\n",
              "      <td>Jennifer L. Armentrout</td>\n",
              "      <td>https://www.goodreads.com/book/show/59449896-a...</td>\n",
              "      <td>4.53 avg rating — 44359 ratings</td>\n",
              "      <td>Best Selling Books</td>\n",
              "    </tr>\n",
              "    <tr>\n",
              "      <th>1</th>\n",
              "      <td>Heist (Valenshek Legacy  #1)</td>\n",
              "      <td>Tate James</td>\n",
              "      <td>https://www.goodreads.com/book/show/63001132-h...</td>\n",
              "      <td>4.58 avg rating — 2072 ratings</td>\n",
              "      <td>Best Selling Books</td>\n",
              "    </tr>\n",
              "    <tr>\n",
              "      <th>2</th>\n",
              "      <td>Sweetest Secret</td>\n",
              "      <td>Lucy Darling</td>\n",
              "      <td>https://www.goodreads.com/book/show/62994973-s...</td>\n",
              "      <td>4.02 avg rating — 993 ratings</td>\n",
              "      <td>Best Selling Books</td>\n",
              "    </tr>\n",
              "    <tr>\n",
              "      <th>3</th>\n",
              "      <td>God of Wrath (Legacy of Gods  #3)</td>\n",
              "      <td>Rina Kent</td>\n",
              "      <td>https://www.goodreads.com/book/show/61100797-g...</td>\n",
              "      <td>4.20 avg rating — 17659 ratings</td>\n",
              "      <td>Best Selling Books</td>\n",
              "    </tr>\n",
              "    <tr>\n",
              "      <th>4</th>\n",
              "      <td>Dukes of Peril (The Royals of Forsyth Universi...</td>\n",
              "      <td>Angel Lawson</td>\n",
              "      <td>https://www.goodreads.com/book/show/61348581-d...</td>\n",
              "      <td>4.51 avg rating — 3274 ratings</td>\n",
              "      <td>Best Selling Books</td>\n",
              "    </tr>\n",
              "    <tr>\n",
              "      <th>...</th>\n",
              "      <td>...</td>\n",
              "      <td>...</td>\n",
              "      <td>...</td>\n",
              "      <td>...</td>\n",
              "      <td>...</td>\n",
              "    </tr>\n",
              "    <tr>\n",
              "      <th>195</th>\n",
              "      <td>The Prophet</td>\n",
              "      <td>Kahlil Gibran</td>\n",
              "      <td>https://www.goodreads.com/book/show/2547.The_P...</td>\n",
              "      <td>4.23 avg rating — 283460 ratings</td>\n",
              "      <td>Best books of November 2022</td>\n",
              "    </tr>\n",
              "    <tr>\n",
              "      <th>196</th>\n",
              "      <td>The Exorcist</td>\n",
              "      <td>William Peter Blatty</td>\n",
              "      <td>https://www.goodreads.com/book/show/179780.The...</td>\n",
              "      <td>4.20 avg rating — 219249 ratings</td>\n",
              "      <td>Best books of November 2022</td>\n",
              "    </tr>\n",
              "    <tr>\n",
              "      <th>197</th>\n",
              "      <td>The Gruffalo (Gruffalo  #1)</td>\n",
              "      <td>Julia Donaldson</td>\n",
              "      <td>https://www.goodreads.com/book/show/1013383.Th...</td>\n",
              "      <td>4.45 avg rating — 40501 ratings</td>\n",
              "      <td>Best books of November 2022</td>\n",
              "    </tr>\n",
              "    <tr>\n",
              "      <th>198</th>\n",
              "      <td>Catch-22</td>\n",
              "      <td>Joseph Heller</td>\n",
              "      <td>https://www.goodreads.com/book/show/168668.Cat...</td>\n",
              "      <td>3.99 avg rating — 806318 ratings</td>\n",
              "      <td>Best books of November 2022</td>\n",
              "    </tr>\n",
              "    <tr>\n",
              "      <th>199</th>\n",
              "      <td>Eye of the Needle</td>\n",
              "      <td>Ken Follett</td>\n",
              "      <td>https://www.goodreads.com/book/show/92364.Eye_...</td>\n",
              "      <td>4.20 avg rating — 150213 ratings</td>\n",
              "      <td>Best books of November 2022</td>\n",
              "    </tr>\n",
              "  </tbody>\n",
              "</table>\n",
              "<p>200 rows × 5 columns</p>\n",
              "</div>\n",
              "      <button class=\"colab-df-convert\" onclick=\"convertToInteractive('df-11d18064-81cc-47da-8ecf-9328e07b031c')\"\n",
              "              title=\"Convert this dataframe to an interactive table.\"\n",
              "              style=\"display:none;\">\n",
              "        \n",
              "  <svg xmlns=\"http://www.w3.org/2000/svg\" height=\"24px\"viewBox=\"0 0 24 24\"\n",
              "       width=\"24px\">\n",
              "    <path d=\"M0 0h24v24H0V0z\" fill=\"none\"/>\n",
              "    <path d=\"M18.56 5.44l.94 2.06.94-2.06 2.06-.94-2.06-.94-.94-2.06-.94 2.06-2.06.94zm-11 1L8.5 8.5l.94-2.06 2.06-.94-2.06-.94L8.5 2.5l-.94 2.06-2.06.94zm10 10l.94 2.06.94-2.06 2.06-.94-2.06-.94-.94-2.06-.94 2.06-2.06.94z\"/><path d=\"M17.41 7.96l-1.37-1.37c-.4-.4-.92-.59-1.43-.59-.52 0-1.04.2-1.43.59L10.3 9.45l-7.72 7.72c-.78.78-.78 2.05 0 2.83L4 21.41c.39.39.9.59 1.41.59.51 0 1.02-.2 1.41-.59l7.78-7.78 2.81-2.81c.8-.78.8-2.07 0-2.86zM5.41 20L4 18.59l7.72-7.72 1.47 1.35L5.41 20z\"/>\n",
              "  </svg>\n",
              "      </button>\n",
              "      \n",
              "  <style>\n",
              "    .colab-df-container {\n",
              "      display:flex;\n",
              "      flex-wrap:wrap;\n",
              "      gap: 12px;\n",
              "    }\n",
              "\n",
              "    .colab-df-convert {\n",
              "      background-color: #E8F0FE;\n",
              "      border: none;\n",
              "      border-radius: 50%;\n",
              "      cursor: pointer;\n",
              "      display: none;\n",
              "      fill: #1967D2;\n",
              "      height: 32px;\n",
              "      padding: 0 0 0 0;\n",
              "      width: 32px;\n",
              "    }\n",
              "\n",
              "    .colab-df-convert:hover {\n",
              "      background-color: #E2EBFA;\n",
              "      box-shadow: 0px 1px 2px rgba(60, 64, 67, 0.3), 0px 1px 3px 1px rgba(60, 64, 67, 0.15);\n",
              "      fill: #174EA6;\n",
              "    }\n",
              "\n",
              "    [theme=dark] .colab-df-convert {\n",
              "      background-color: #3B4455;\n",
              "      fill: #D2E3FC;\n",
              "    }\n",
              "\n",
              "    [theme=dark] .colab-df-convert:hover {\n",
              "      background-color: #434B5C;\n",
              "      box-shadow: 0px 1px 3px 1px rgba(0, 0, 0, 0.15);\n",
              "      filter: drop-shadow(0px 1px 2px rgba(0, 0, 0, 0.3));\n",
              "      fill: #FFFFFF;\n",
              "    }\n",
              "  </style>\n",
              "\n",
              "      <script>\n",
              "        const buttonEl =\n",
              "          document.querySelector('#df-11d18064-81cc-47da-8ecf-9328e07b031c button.colab-df-convert');\n",
              "        buttonEl.style.display =\n",
              "          google.colab.kernel.accessAllowed ? 'block' : 'none';\n",
              "\n",
              "        async function convertToInteractive(key) {\n",
              "          const element = document.querySelector('#df-11d18064-81cc-47da-8ecf-9328e07b031c');\n",
              "          const dataTable =\n",
              "            await google.colab.kernel.invokeFunction('convertToInteractive',\n",
              "                                                     [key], {});\n",
              "          if (!dataTable) return;\n",
              "\n",
              "          const docLinkHtml = 'Like what you see? Visit the ' +\n",
              "            '<a target=\"_blank\" href=https://colab.research.google.com/notebooks/data_table.ipynb>data table notebook</a>'\n",
              "            + ' to learn more about interactive tables.';\n",
              "          element.innerHTML = '';\n",
              "          dataTable['output_type'] = 'display_data';\n",
              "          await google.colab.output.renderOutput(dataTable, element);\n",
              "          const docLink = document.createElement('div');\n",
              "          docLink.innerHTML = docLinkHtml;\n",
              "          element.appendChild(docLink);\n",
              "        }\n",
              "      </script>\n",
              "    </div>\n",
              "  </div>\n",
              "  "
            ]
          },
          "metadata": {},
          "execution_count": 69
        }
      ]
    }
  ],
  "metadata": {
    "kernelspec": {
      "display_name": "Python 3 (ipykernel)",
      "language": "python",
      "name": "python3"
    },
    "language_info": {
      "codemirror_mode": {
        "name": "ipython",
        "version": 3
      },
      "file_extension": ".py",
      "mimetype": "text/x-python",
      "name": "python",
      "nbconvert_exporter": "python",
      "pygments_lexer": "ipython3",
      "version": "3.9.7"
    },
    "colab": {
      "provenance": [],
      "include_colab_link": true
    }
  },
  "nbformat": 4,
  "nbformat_minor": 0
}